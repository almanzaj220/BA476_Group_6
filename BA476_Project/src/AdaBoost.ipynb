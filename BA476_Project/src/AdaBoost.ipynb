{
 "cells": [
  {
   "cell_type": "code",
   "execution_count": 7,
   "metadata": {},
   "outputs": [],
   "source": [
    "import numpy as np\n",
    "import pandas as pd\n",
    "from sklearn.ensemble import AdaBoostRegressor, RandomForestRegressor\n",
    "from sklearn.tree import DecisionTreeRegressor\n",
    "from sklearn.model_selection import train_test_split\n",
    "from sklearn.model_selection import RandomizedSearchCV\n",
    "from sklearn.metrics import mean_squared_error\n",
    "from Features import FEATURE_LIST\n",
    "from sklearn.metrics import mean_absolute_error"
   ]
  },
  {
   "cell_type": "code",
   "execution_count": 8,
   "metadata": {},
   "outputs": [
    {
     "ename": "TypeError",
     "evalue": "__init__() got an unexpected keyword argument 'param_grid'",
     "output_type": "error",
     "traceback": [
      "\u001b[0;31m---------------------------------------------------------------------------\u001b[0m",
      "\u001b[0;31mTypeError\u001b[0m                                 Traceback (most recent call last)",
      "Cell \u001b[0;32mIn[8], line 17\u001b[0m\n\u001b[1;32m     15\u001b[0m reg \u001b[39m=\u001b[39m AdaBoostRegressor(random_state\u001b[39m=\u001b[39m\u001b[39m42\u001b[39m)\n\u001b[1;32m     16\u001b[0m \u001b[39m# Create the GridSearchCV object\u001b[39;00m\n\u001b[0;32m---> 17\u001b[0m grid_search \u001b[39m=\u001b[39m RandomizedSearchCV(estimator\u001b[39m=\u001b[39;49mreg, param_grid\u001b[39m=\u001b[39;49mparam_grid, cv\u001b[39m=\u001b[39;49m\u001b[39m5\u001b[39;49m,n_jobs\u001b[39m=\u001b[39;49m\u001b[39m-\u001b[39;49m\u001b[39m1\u001b[39;49m,scoring\u001b[39m=\u001b[39;49m\u001b[39m'\u001b[39;49m\u001b[39mneg_mean_squared_error\u001b[39;49m\u001b[39m'\u001b[39;49m)\n\u001b[1;32m     19\u001b[0m \u001b[39m# Fit the GridSearchCV object to the training data\u001b[39;00m\n\u001b[1;32m     20\u001b[0m grid_search\u001b[39m.\u001b[39mfit(X_train, y_train)\n",
      "\u001b[0;31mTypeError\u001b[0m: __init__() got an unexpected keyword argument 'param_grid'"
     ]
    }
   ],
   "source": [
    "df = pd.read_csv('../data/wine_data_train.csv')\n",
    "df = df[FEATURE_LIST]\n",
    "\n",
    "df_test = pd.read_csv('../data/wine_data_test.csv')\n",
    "df_test = df_test[FEATURE_LIST]\n",
    "\n",
    "X_train, X_val, y_train, y_val = train_test_split(df.drop(\"quality\",axis=1), df[\"quality\"], test_size=0.2, random_state=42)\n",
    "\n",
    "param_grid = {\n",
    "    'n_estimators': [50, 100, 200],\n",
    "    'learning_rate': [0.001, 0.01, 0.1],\n",
    "    'estimator': [DecisionTreeRegressor(), RandomForestRegressor()],\n",
    "}\n",
    "\n",
    "reg = AdaBoostRegressor(random_state=42)\n",
    "# Create the GridSearchCV object\n",
    "grid_search = RandomizedSearchCV(estimator=reg, param_distributions=param_grid, cv=5,n_jobs=-1,scoring='neg_mean_squared_error')\n",
    "\n",
    "# Fit the GridSearchCV object to the training data\n",
    "grid_search.fit(X_train, y_train)"
   ]
  },
  {
   "cell_type": "code",
   "execution_count": null,
   "metadata": {},
   "outputs": [],
   "source": [
    "best_params = grid_search.best_params_\n",
    "reg = grid_search.best_estimator_\n",
    "\n",
    "y_pred = reg.predict(X_val)\n",
    "MAE = mean_absolute_error(y_pred, y_val)\n",
    "MSE = mean_squared_error(y_pred,y_val)\n",
    "r_2 = reg.score(X_val, y_val)\n",
    "\n",
    "# Perform of test.\n",
    "X_test = df_test.drop(\"quality\",axis=1)\n",
    "y_test = df_test[\"quality\"]\n",
    "y_pred_test = reg.predict(X_test)\n",
    "MAE_t = mean_absolute_error(y_pred_test, y_test)\n",
    "MSE_t = mean_squared_error(y_pred_test,y_test)\n",
    "r_2_t = reg.score(X_test, y_test)\n",
    "\n",
    "message = (f'best parameter{best_params}\\n' +\n",
    "           f'Validation R^2: {r_2}\\n' + f'Validation MAE: {MAE}\\n' + f'Validation MSE: {MSE}\\n' \n",
    "           + f'Test R^2: {r_2_t}\\n' + f'Test MAE: {MAE_t}\\n' + f'Test MSE: {MSE_t}')\n",
    "print(message)\n",
    "\n",
    "with open(\"results/AdaBoost_results.txt\", \"w\") as file:\n",
    "    file.write(message)"
   ]
  }
 ],
 "metadata": {
  "kernelspec": {
   "display_name": "base",
   "language": "python",
   "name": "python3"
  },
  "language_info": {
   "codemirror_mode": {
    "name": "ipython",
    "version": 3
   },
   "file_extension": ".py",
   "mimetype": "text/x-python",
   "name": "python",
   "nbconvert_exporter": "python",
   "pygments_lexer": "ipython3",
   "version": "3.9.16"
  },
  "orig_nbformat": 4
 },
 "nbformat": 4,
 "nbformat_minor": 2
}
